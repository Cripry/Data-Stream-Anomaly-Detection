{
 "cells": [
  {
   "cell_type": "code",
   "execution_count": 1,
   "metadata": {},
   "outputs": [],
   "source": [
    "import pandas as pd"
   ]
  },
  {
   "cell_type": "code",
   "execution_count": 3,
   "metadata": {},
   "outputs": [],
   "source": [
    "df = pd.read_csv(r\"..\\data\\BTC-Hourly.csv\")"
   ]
  },
  {
   "cell_type": "code",
   "execution_count": 5,
   "metadata": {},
   "outputs": [],
   "source": [
    "split_date = pd.to_datetime('2021-01-01', utc=True)"
   ]
  },
  {
   "cell_type": "code",
   "execution_count": 8,
   "metadata": {},
   "outputs": [],
   "source": [
    "df[\"date\"] = pd.to_datetime(df[\"date\"], utc=True)\n",
    "df.drop([\"unix\", \"symbol\", \"Volume USD\"], axis=1, inplace=True)\n",
    "df.sort_values(by=\"date\", inplace=True)\n",
    "\n",
    "df.set_index(\"date\", inplace=True)"
   ]
  },
  {
   "cell_type": "code",
   "execution_count": 9,
   "metadata": {},
   "outputs": [],
   "source": [
    "test_df = df.loc[split_date:]"
   ]
  },
  {
   "cell_type": "code",
   "execution_count": 10,
   "metadata": {},
   "outputs": [
    {
     "data": {
      "text/html": [
       "<div>\n",
       "<style scoped>\n",
       "    .dataframe tbody tr th:only-of-type {\n",
       "        vertical-align: middle;\n",
       "    }\n",
       "\n",
       "    .dataframe tbody tr th {\n",
       "        vertical-align: top;\n",
       "    }\n",
       "\n",
       "    .dataframe thead th {\n",
       "        text-align: right;\n",
       "    }\n",
       "</style>\n",
       "<table border=\"1\" class=\"dataframe\">\n",
       "  <thead>\n",
       "    <tr style=\"text-align: right;\">\n",
       "      <th></th>\n",
       "      <th>open</th>\n",
       "      <th>high</th>\n",
       "      <th>low</th>\n",
       "      <th>close</th>\n",
       "      <th>Volume BTC</th>\n",
       "    </tr>\n",
       "    <tr>\n",
       "      <th>date</th>\n",
       "      <th></th>\n",
       "      <th></th>\n",
       "      <th></th>\n",
       "      <th></th>\n",
       "      <th></th>\n",
       "    </tr>\n",
       "  </thead>\n",
       "  <tbody>\n",
       "    <tr>\n",
       "      <th>2021-01-01 00:00:00+00:00</th>\n",
       "      <td>28999.63</td>\n",
       "      <td>29099.00</td>\n",
       "      <td>28774.64</td>\n",
       "      <td>29056.94</td>\n",
       "      <td>397.964775</td>\n",
       "    </tr>\n",
       "    <tr>\n",
       "      <th>2021-01-01 01:00:00+00:00</th>\n",
       "      <td>29070.66</td>\n",
       "      <td>29543.93</td>\n",
       "      <td>29010.36</td>\n",
       "      <td>29479.12</td>\n",
       "      <td>648.597652</td>\n",
       "    </tr>\n",
       "    <tr>\n",
       "      <th>2021-01-01 02:00:00+00:00</th>\n",
       "      <td>29484.39</td>\n",
       "      <td>29535.95</td>\n",
       "      <td>29189.34</td>\n",
       "      <td>29249.33</td>\n",
       "      <td>290.242637</td>\n",
       "    </tr>\n",
       "    <tr>\n",
       "      <th>2021-01-01 03:00:00+00:00</th>\n",
       "      <td>29249.33</td>\n",
       "      <td>29414.48</td>\n",
       "      <td>29216.61</td>\n",
       "      <td>29345.63</td>\n",
       "      <td>284.146568</td>\n",
       "    </tr>\n",
       "    <tr>\n",
       "      <th>2021-01-01 04:00:00+00:00</th>\n",
       "      <td>29351.85</td>\n",
       "      <td>29458.27</td>\n",
       "      <td>29121.80</td>\n",
       "      <td>29290.38</td>\n",
       "      <td>325.565700</td>\n",
       "    </tr>\n",
       "    <tr>\n",
       "      <th>...</th>\n",
       "      <td>...</td>\n",
       "      <td>...</td>\n",
       "      <td>...</td>\n",
       "      <td>...</td>\n",
       "      <td>...</td>\n",
       "    </tr>\n",
       "    <tr>\n",
       "      <th>2022-02-28 20:00:00+00:00</th>\n",
       "      <td>41361.99</td>\n",
       "      <td>41971.00</td>\n",
       "      <td>41284.11</td>\n",
       "      <td>41914.97</td>\n",
       "      <td>247.151654</td>\n",
       "    </tr>\n",
       "    <tr>\n",
       "      <th>2022-02-28 21:00:00+00:00</th>\n",
       "      <td>41917.09</td>\n",
       "      <td>41917.09</td>\n",
       "      <td>41542.60</td>\n",
       "      <td>41659.53</td>\n",
       "      <td>69.751680</td>\n",
       "    </tr>\n",
       "    <tr>\n",
       "      <th>2022-02-28 22:00:00+00:00</th>\n",
       "      <td>41657.23</td>\n",
       "      <td>44256.08</td>\n",
       "      <td>41650.29</td>\n",
       "      <td>42907.32</td>\n",
       "      <td>527.540571</td>\n",
       "    </tr>\n",
       "    <tr>\n",
       "      <th>2022-02-28 23:00:00+00:00</th>\n",
       "      <td>43085.30</td>\n",
       "      <td>43364.81</td>\n",
       "      <td>42892.37</td>\n",
       "      <td>43178.98</td>\n",
       "      <td>106.816103</td>\n",
       "    </tr>\n",
       "    <tr>\n",
       "      <th>2022-03-01 00:00:00+00:00</th>\n",
       "      <td>43221.71</td>\n",
       "      <td>43626.49</td>\n",
       "      <td>43185.48</td>\n",
       "      <td>43312.27</td>\n",
       "      <td>52.056320</td>\n",
       "    </tr>\n",
       "  </tbody>\n",
       "</table>\n",
       "<p>10177 rows × 5 columns</p>\n",
       "</div>"
      ],
      "text/plain": [
       "                               open      high       low     close  Volume BTC\n",
       "date                                                                         \n",
       "2021-01-01 00:00:00+00:00  28999.63  29099.00  28774.64  29056.94  397.964775\n",
       "2021-01-01 01:00:00+00:00  29070.66  29543.93  29010.36  29479.12  648.597652\n",
       "2021-01-01 02:00:00+00:00  29484.39  29535.95  29189.34  29249.33  290.242637\n",
       "2021-01-01 03:00:00+00:00  29249.33  29414.48  29216.61  29345.63  284.146568\n",
       "2021-01-01 04:00:00+00:00  29351.85  29458.27  29121.80  29290.38  325.565700\n",
       "...                             ...       ...       ...       ...         ...\n",
       "2022-02-28 20:00:00+00:00  41361.99  41971.00  41284.11  41914.97  247.151654\n",
       "2022-02-28 21:00:00+00:00  41917.09  41917.09  41542.60  41659.53   69.751680\n",
       "2022-02-28 22:00:00+00:00  41657.23  44256.08  41650.29  42907.32  527.540571\n",
       "2022-02-28 23:00:00+00:00  43085.30  43364.81  42892.37  43178.98  106.816103\n",
       "2022-03-01 00:00:00+00:00  43221.71  43626.49  43185.48  43312.27   52.056320\n",
       "\n",
       "[10177 rows x 5 columns]"
      ]
     },
     "execution_count": 10,
     "metadata": {},
     "output_type": "execute_result"
    }
   ],
   "source": [
    "test_df"
   ]
  },
  {
   "cell_type": "code",
   "execution_count": 12,
   "metadata": {},
   "outputs": [],
   "source": [
    "from sklearn.preprocessing import StandardScaler\n",
    "\n",
    "a = StandardScaler()"
   ]
  },
  {
   "cell_type": "code",
   "execution_count": 13,
   "metadata": {},
   "outputs": [
    {
     "name": "stderr",
     "output_type": "stream",
     "text": [
      "d:\\Fignea Random\\Cobblestone Energy Task\\.venv\\Lib\\site-packages\\sklearn\\base.py:376: InconsistentVersionWarning: Trying to unpickle estimator StandardScaler from version 1.3.2 when using version 1.5.2. This might lead to breaking code or invalid results. Use at your own risk. For more info please refer to:\n",
      "https://scikit-learn.org/stable/model_persistence.html#security-maintainability-limitations\n",
      "  warnings.warn(\n"
     ]
    }
   ],
   "source": [
    "import pickle\n",
    "\n",
    "with open(r\"..\\utils\\scaler.pkl\", \"rb\") as f:\n",
    "    scaler = pickle.load(f)"
   ]
  },
  {
   "cell_type": "code",
   "execution_count": 16,
   "metadata": {},
   "outputs": [],
   "source": [
    "import numpy as np"
   ]
  },
  {
   "cell_type": "code",
   "execution_count": 15,
   "metadata": {},
   "outputs": [
    {
     "data": {
      "text/plain": [
       "{'with_mean': True,\n",
       " 'with_std': True,\n",
       " 'copy': True,\n",
       " 'feature_names_in_': array(['open', 'high', 'low', 'close', 'Volume BTC'], dtype=object),\n",
       " 'n_features_in_': 5,\n",
       " 'n_samples_seen_': np.int64(33259),\n",
       " 'mean_': array([  20119.5467717 ,   20232.95747286,   19997.0697769 ,\n",
       "          20120.6847999 , 1612380.14633455]),\n",
       " 'var_': array([3.43618179e+08, 3.47698325e+08, 3.39224323e+08, 3.43635805e+08,\n",
       "        9.62414763e+12]),\n",
       " 'scale_': array([  18536.94092544,   18646.67060132,   18418.04340263,\n",
       "          18537.41635528, 3102281.03713796])}"
      ]
     },
     "execution_count": 15,
     "metadata": {},
     "output_type": "execute_result"
    }
   ],
   "source": [
    "scaler.__dict__"
   ]
  },
  {
   "cell_type": "code",
   "execution_count": 17,
   "metadata": {},
   "outputs": [],
   "source": [
    "scaler.feature_names_in_ = np.array(['open', 'high', 'low', 'close', 'volumebtc'], dtype=object)"
   ]
  },
  {
   "cell_type": "code",
   "execution_count": 18,
   "metadata": {},
   "outputs": [
    {
     "data": {
      "text/plain": [
       "{'with_mean': True,\n",
       " 'with_std': True,\n",
       " 'copy': True,\n",
       " 'feature_names_in_': array(['open', 'high', 'low', 'close', 'volumebtc'], dtype=object),\n",
       " 'n_features_in_': 5,\n",
       " 'n_samples_seen_': np.int64(33259),\n",
       " 'mean_': array([  20119.5467717 ,   20232.95747286,   19997.0697769 ,\n",
       "          20120.6847999 , 1612380.14633455]),\n",
       " 'var_': array([3.43618179e+08, 3.47698325e+08, 3.39224323e+08, 3.43635805e+08,\n",
       "        9.62414763e+12]),\n",
       " 'scale_': array([  18536.94092544,   18646.67060132,   18418.04340263,\n",
       "          18537.41635528, 3102281.03713796])}"
      ]
     },
     "execution_count": 18,
     "metadata": {},
     "output_type": "execute_result"
    }
   ],
   "source": [
    "scaler"
   ]
  },
  {
   "cell_type": "code",
   "execution_count": 19,
   "metadata": {},
   "outputs": [],
   "source": [
    "import pickle\n",
    "\n",
    "with open(r\"..\\utils\\scaler2.pkl\", \"wb\") as f:\n",
    "    pickle.dump(scaler, f)"
   ]
  },
  {
   "cell_type": "code",
   "execution_count": null,
   "metadata": {},
   "outputs": [],
   "source": []
  }
 ],
 "metadata": {
  "kernelspec": {
   "display_name": ".venv",
   "language": "python",
   "name": "python3"
  },
  "language_info": {
   "codemirror_mode": {
    "name": "ipython",
    "version": 3
   },
   "file_extension": ".py",
   "mimetype": "text/x-python",
   "name": "python",
   "nbconvert_exporter": "python",
   "pygments_lexer": "ipython3",
   "version": "3.12.2"
  }
 },
 "nbformat": 4,
 "nbformat_minor": 2
}
